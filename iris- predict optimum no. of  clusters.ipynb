{
 "cells": [
  {
   "cell_type": "code",
   "execution_count": null,
   "metadata": {},
   "outputs": [],
   "source": [
    "#Importing necessary libraries\n",
    "import numpy as np\n",
    "import matplotlib.pyplot as plt\n",
    "import pandas as pd\n",
    "from sklearn import datasets\n",
    "\n"
   ]
  },
  {
   "cell_type": "code",
   "execution_count": null,
   "metadata": {},
   "outputs": [],
   "source": [
    "#loading iris dataset and dropping the id column as it is not needed in this case.\n",
    "iris = pd.read_csv('iris.csv')\n",
    "iris_1=iris.drop(['Id'], axis = 1)\n",
    "iris_1.head(10)"
   ]
  },
  {
   "cell_type": "code",
   "execution_count": null,
   "metadata": {
    "scrolled": false
   },
   "outputs": [],
   "source": [
    "#First finding optimum number of clusters with wcss = []\n",
    "from sklearn.cluster import KMeans\n",
    "k_d = iris_1.iloc[:, [0, 1, 2, 3]].values\n",
    "\n",
    "wcss = []\n",
    "for i in range(1, 11):\n",
    "    kmeans = KMeans(n_clusters=i, init='k-means++', max_iter=300, n_init=10, random_state=0)\n",
    "    kmeans.fit(k_d)\n",
    "    wcss.append(kmeans.inertia_)\n",
    "plt.plot(range(1, 11), wcss)\n",
    "plt.title('Elbow Method')\n",
    "plt.xlabel('Number of clusters')\n",
    "plt.ylabel('WCSS')\n",
    "plt.show()\n"
   ]
  },
  {
   "cell_type": "markdown",
   "metadata": {},
   "source": [
    "<b> We can choose 3(or 4) as our optimal number of clusters as the elbow does not decrease after that drastically </b>"
   ]
  },
  {
   "cell_type": "code",
   "execution_count": null,
   "metadata": {},
   "outputs": [],
   "source": [
    "#Applying Kmeans(on 3 clusters)\n",
    "kmeans = KMeans(n_clusters=3, init='k-means++', max_iter=300, n_init=10, random_state=0)\n",
    "pred_y = kmeans.fit_predict(k_d)\n",
    "#print(pred_y)\n",
    "\n",
    "# visualizing on first 2 columns(2D scatter plot)\n",
    "plt.scatter(x[pred_y == 0, 0], x[pred_y == 0, 1],\n",
    "            s = 50, c = 'b', label = 'Iris-setosa')\n",
    "plt.scatter(x[pred_y == 1, 0], x[pred_y == 1, 1],\n",
    "            s = 50, c = 'r', label = 'Iris-versicolour')\n",
    "plt.scatter(x[pred_y == 2, 0], x[pred_y == 2, 1],\n",
    "            s = 50, c = 'g', label = 'Iris-virginica')\n",
    "\n",
    "# Plotting the centroids of the clusters\n",
    "plt.scatter(kmeans.cluster_centers_[:, 0], kmeans.cluster_centers_[:,1], \n",
    "            s = 100, c = 'gold', label = 'Centroids')\n",
    "\n",
    "plt.legend()\n"
   ]
  },
  {
   "cell_type": "code",
   "execution_count": null,
   "metadata": {},
   "outputs": [],
   "source": [
    "x[pred_y== 0, 0], x[pred_y == 0, 1]"
   ]
  },
  {
   "cell_type": "code",
   "execution_count": null,
   "metadata": {},
   "outputs": [],
   "source": [
    "# visualizing on last 2 columns(2D scatter plot)\n",
    "plt.scatter(x[pred_y == 0, 2], x[pred_y == 0, 3],\n",
    "            s = 50, c = 'b', label = 'Iris-setosa')\n",
    "plt.scatter(x[pred_y == 1, 2], x[pred_y == 1, 3],\n",
    "            s = 50, c = 'r', label = 'Iris-versicolour')\n",
    "plt.scatter(x[pred_y == 2, 2], x[pred_y == 2, 3],\n",
    "            s = 50, c = 'g', label = 'Iris-virginica')"
   ]
  },
  {
   "cell_type": "code",
   "execution_count": null,
   "metadata": {},
   "outputs": [],
   "source": [
    "#We can make scatter plot on any number of combinations like this."
   ]
  }
 ],
 "metadata": {
  "kernelspec": {
   "display_name": "Python 3",
   "language": "python",
   "name": "python3"
  },
  "language_info": {
   "codemirror_mode": {
    "name": "ipython",
    "version": 3
   },
   "file_extension": ".py",
   "mimetype": "text/x-python",
   "name": "python",
   "nbconvert_exporter": "python",
   "pygments_lexer": "ipython3",
   "version": "3.8.5"
  }
 },
 "nbformat": 4,
 "nbformat_minor": 4
}
